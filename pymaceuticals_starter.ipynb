{
 "cells": [
  {
   "cell_type": "markdown",
   "metadata": {},
   "source": [
    "## Observations and Insights "
   ]
  },
  {
   "cell_type": "markdown",
   "metadata": {},
   "source": []
  },
  {
   "cell_type": "code",
   "execution_count": 5,
   "metadata": {},
   "outputs": [
    {
     "data": {
      "text/html": [
       "<div>\n",
       "<style scoped>\n",
       "    .dataframe tbody tr th:only-of-type {\n",
       "        vertical-align: middle;\n",
       "    }\n",
       "\n",
       "    .dataframe tbody tr th {\n",
       "        vertical-align: top;\n",
       "    }\n",
       "\n",
       "    .dataframe thead th {\n",
       "        text-align: right;\n",
       "    }\n",
       "</style>\n",
       "<table border=\"1\" class=\"dataframe\">\n",
       "  <thead>\n",
       "    <tr style=\"text-align: right;\">\n",
       "      <th></th>\n",
       "      <th>Mouse ID</th>\n",
       "      <th>Drug Regimen</th>\n",
       "      <th>Sex</th>\n",
       "      <th>Age_months</th>\n",
       "      <th>Weight (g)</th>\n",
       "      <th>Timepoint</th>\n",
       "      <th>Tumor Volume (mm3)</th>\n",
       "      <th>Metastatic Sites</th>\n",
       "    </tr>\n",
       "  </thead>\n",
       "  <tbody>\n",
       "    <tr>\n",
       "      <th>0</th>\n",
       "      <td>k403</td>\n",
       "      <td>Ramicane</td>\n",
       "      <td>Male</td>\n",
       "      <td>21</td>\n",
       "      <td>16</td>\n",
       "      <td>0</td>\n",
       "      <td>45.000000</td>\n",
       "      <td>0</td>\n",
       "    </tr>\n",
       "    <tr>\n",
       "      <th>1</th>\n",
       "      <td>k403</td>\n",
       "      <td>Ramicane</td>\n",
       "      <td>Male</td>\n",
       "      <td>21</td>\n",
       "      <td>16</td>\n",
       "      <td>5</td>\n",
       "      <td>38.825898</td>\n",
       "      <td>0</td>\n",
       "    </tr>\n",
       "    <tr>\n",
       "      <th>2</th>\n",
       "      <td>k403</td>\n",
       "      <td>Ramicane</td>\n",
       "      <td>Male</td>\n",
       "      <td>21</td>\n",
       "      <td>16</td>\n",
       "      <td>10</td>\n",
       "      <td>35.014271</td>\n",
       "      <td>1</td>\n",
       "    </tr>\n",
       "    <tr>\n",
       "      <th>3</th>\n",
       "      <td>k403</td>\n",
       "      <td>Ramicane</td>\n",
       "      <td>Male</td>\n",
       "      <td>21</td>\n",
       "      <td>16</td>\n",
       "      <td>15</td>\n",
       "      <td>34.223992</td>\n",
       "      <td>1</td>\n",
       "    </tr>\n",
       "    <tr>\n",
       "      <th>4</th>\n",
       "      <td>k403</td>\n",
       "      <td>Ramicane</td>\n",
       "      <td>Male</td>\n",
       "      <td>21</td>\n",
       "      <td>16</td>\n",
       "      <td>20</td>\n",
       "      <td>32.997729</td>\n",
       "      <td>1</td>\n",
       "    </tr>\n",
       "  </tbody>\n",
       "</table>\n",
       "</div>"
      ],
      "text/plain": [
       "  Mouse ID Drug Regimen   Sex  Age_months  Weight (g)  Timepoint  \\\n",
       "0     k403     Ramicane  Male          21          16          0   \n",
       "1     k403     Ramicane  Male          21          16          5   \n",
       "2     k403     Ramicane  Male          21          16         10   \n",
       "3     k403     Ramicane  Male          21          16         15   \n",
       "4     k403     Ramicane  Male          21          16         20   \n",
       "\n",
       "   Tumor Volume (mm3)  Metastatic Sites  \n",
       "0           45.000000                 0  \n",
       "1           38.825898                 0  \n",
       "2           35.014271                 1  \n",
       "3           34.223992                 1  \n",
       "4           32.997729                 1  "
      ]
     },
     "execution_count": 5,
     "metadata": {},
     "output_type": "execute_result"
    }
   ],
   "source": [
    "# Dependencies and Setup\n",
    "import matplotlib.pyplot as plt\n",
    "import pandas as pd\n",
    "import scipy.stats as st\n",
    "import numpy as np\n",
    "from scipy.stats import linregress\n",
    "\n",
    "# Study data files\n",
    "mouse_metadata_path = \"data/Mouse_metadata.csv\"\n",
    "study_results_path = \"data/Study_results.csv\"\n",
    "\n",
    "# Read the mouse data and the study results\n",
    "mouse_metadata = pd.read_csv(mouse_metadata_path)\n",
    "study_results = pd.read_csv(study_results_path)\n",
    "\n",
    "# Combine the data into a single dataset\n",
    "py_data = pd.merge(mouse_metadata, study_results, how=\"left\", on=[\"Mouse ID\", \"Mouse ID\"])\n",
    "py_data.head()\n",
    "\n",
    "\n",
    "# Display the data table for preview\n",
    "\n",
    "#Where do I put the removal of duplicates???\n"
   ]
  },
  {
   "cell_type": "code",
   "execution_count": 6,
   "metadata": {},
   "outputs": [
    {
     "data": {
      "text/plain": [
       "249"
      ]
     },
     "execution_count": 6,
     "metadata": {},
     "output_type": "execute_result"
    }
   ],
   "source": [
    "# Checking the number of mice.\n",
    "len(py_data[\"Mouse ID\"].unique())"
   ]
  },
  {
   "cell_type": "code",
   "execution_count": 7,
   "metadata": {},
   "outputs": [
    {
     "data": {
      "text/plain": [
       "array(['g989'], dtype=object)"
      ]
     },
     "execution_count": 7,
     "metadata": {},
     "output_type": "execute_result"
    }
   ],
   "source": [
    "# Getting the duplicate mice by ID number that shows up for Mouse ID and Timepoint. \n",
    "\n",
    "dup_pydata = py_data.loc[py_data.duplicated(subset = [\"Mouse ID\", \"Timepoint\"]), \"Mouse ID\"].unique()\n",
    "dup_pydata"
   ]
  },
  {
   "cell_type": "code",
   "execution_count": 8,
   "metadata": {},
   "outputs": [
    {
     "ename": "TypeError",
     "evalue": "'numpy.ndarray' object is not callable",
     "output_type": "error",
     "traceback": [
      "\u001b[1;31m---------------------------------------------------------------------------\u001b[0m",
      "\u001b[1;31mTypeError\u001b[0m                                 Traceback (most recent call last)",
      "\u001b[1;32m<ipython-input-8-1df8b6c6b1e0>\u001b[0m in \u001b[0;36m<module>\u001b[1;34m\u001b[0m\n\u001b[0;32m      1\u001b[0m \u001b[1;31m# Optional: Get all the data for the duplicate mouse ID.\u001b[0m\u001b[1;33m\u001b[0m\u001b[1;33m\u001b[0m\u001b[1;33m\u001b[0m\u001b[0m\n\u001b[0;32m      2\u001b[0m \u001b[1;33m\u001b[0m\u001b[0m\n\u001b[1;32m----> 3\u001b[1;33m \u001b[0mdf\u001b[0m \u001b[1;33m=\u001b[0m \u001b[0mdup_pydata\u001b[0m\u001b[1;33m(\u001b[0m\u001b[0mpy_data\u001b[0m\u001b[1;33m,\u001b[0m \u001b[0mcolumns\u001b[0m \u001b[1;33m=\u001b[0m \u001b[1;33m[\u001b[0m\u001b[1;34m'Mouse ID'\u001b[0m\u001b[1;33m]\u001b[0m\u001b[1;33m)\u001b[0m\u001b[1;33m\u001b[0m\u001b[1;33m\u001b[0m\u001b[0m\n\u001b[0m\u001b[0;32m      4\u001b[0m \u001b[0mdf_duplicates_removed\u001b[0m \u001b[1;33m=\u001b[0m \u001b[0mDataFrame\u001b[0m\u001b[1;33m.\u001b[0m\u001b[0mdrop_duplicates\u001b[0m\u001b[1;33m(\u001b[0m\u001b[0mdf\u001b[0m\u001b[1;33m)\u001b[0m\u001b[1;33m\u001b[0m\u001b[1;33m\u001b[0m\u001b[0m\n\u001b[0;32m      5\u001b[0m \u001b[0mprint\u001b[0m\u001b[1;33m(\u001b[0m\u001b[0mdf_duplicates_removed\u001b[0m\u001b[1;33m)\u001b[0m\u001b[1;33m\u001b[0m\u001b[1;33m\u001b[0m\u001b[0m\n",
      "\u001b[1;31mTypeError\u001b[0m: 'numpy.ndarray' object is not callable"
     ]
    }
   ],
   "source": [
    "# Optional: Get all the data for the duplicate mouse ID. \n",
    "\n",
    "df = dup_pydata(py_data, columns = ['Mouse ID'])\n",
    "df_duplicates_removed = DataFrame.drop_duplicates(df)\n",
    "print(df_duplicates_removed)\n"
   ]
  },
  {
   "cell_type": "code",
   "execution_count": 9,
   "metadata": {},
   "outputs": [
    {
     "data": {
      "text/html": [
       "<div>\n",
       "<style scoped>\n",
       "    .dataframe tbody tr th:only-of-type {\n",
       "        vertical-align: middle;\n",
       "    }\n",
       "\n",
       "    .dataframe tbody tr th {\n",
       "        vertical-align: top;\n",
       "    }\n",
       "\n",
       "    .dataframe thead th {\n",
       "        text-align: right;\n",
       "    }\n",
       "</style>\n",
       "<table border=\"1\" class=\"dataframe\">\n",
       "  <thead>\n",
       "    <tr style=\"text-align: right;\">\n",
       "      <th></th>\n",
       "      <th>Mouse ID</th>\n",
       "      <th>Drug Regimen</th>\n",
       "      <th>Sex</th>\n",
       "      <th>Age_months</th>\n",
       "      <th>Weight (g)</th>\n",
       "      <th>Timepoint</th>\n",
       "      <th>Tumor Volume (mm3)</th>\n",
       "      <th>Metastatic Sites</th>\n",
       "    </tr>\n",
       "  </thead>\n",
       "  <tbody>\n",
       "    <tr>\n",
       "      <th>0</th>\n",
       "      <td>k403</td>\n",
       "      <td>Ramicane</td>\n",
       "      <td>Male</td>\n",
       "      <td>21</td>\n",
       "      <td>16</td>\n",
       "      <td>0</td>\n",
       "      <td>45.000000</td>\n",
       "      <td>0</td>\n",
       "    </tr>\n",
       "    <tr>\n",
       "      <th>1</th>\n",
       "      <td>k403</td>\n",
       "      <td>Ramicane</td>\n",
       "      <td>Male</td>\n",
       "      <td>21</td>\n",
       "      <td>16</td>\n",
       "      <td>5</td>\n",
       "      <td>38.825898</td>\n",
       "      <td>0</td>\n",
       "    </tr>\n",
       "    <tr>\n",
       "      <th>2</th>\n",
       "      <td>k403</td>\n",
       "      <td>Ramicane</td>\n",
       "      <td>Male</td>\n",
       "      <td>21</td>\n",
       "      <td>16</td>\n",
       "      <td>10</td>\n",
       "      <td>35.014271</td>\n",
       "      <td>1</td>\n",
       "    </tr>\n",
       "    <tr>\n",
       "      <th>3</th>\n",
       "      <td>k403</td>\n",
       "      <td>Ramicane</td>\n",
       "      <td>Male</td>\n",
       "      <td>21</td>\n",
       "      <td>16</td>\n",
       "      <td>15</td>\n",
       "      <td>34.223992</td>\n",
       "      <td>1</td>\n",
       "    </tr>\n",
       "    <tr>\n",
       "      <th>4</th>\n",
       "      <td>k403</td>\n",
       "      <td>Ramicane</td>\n",
       "      <td>Male</td>\n",
       "      <td>21</td>\n",
       "      <td>16</td>\n",
       "      <td>20</td>\n",
       "      <td>32.997729</td>\n",
       "      <td>1</td>\n",
       "    </tr>\n",
       "    <tr>\n",
       "      <th>...</th>\n",
       "      <td>...</td>\n",
       "      <td>...</td>\n",
       "      <td>...</td>\n",
       "      <td>...</td>\n",
       "      <td>...</td>\n",
       "      <td>...</td>\n",
       "      <td>...</td>\n",
       "      <td>...</td>\n",
       "    </tr>\n",
       "    <tr>\n",
       "      <th>1888</th>\n",
       "      <td>z969</td>\n",
       "      <td>Naftisol</td>\n",
       "      <td>Male</td>\n",
       "      <td>9</td>\n",
       "      <td>30</td>\n",
       "      <td>25</td>\n",
       "      <td>63.145652</td>\n",
       "      <td>2</td>\n",
       "    </tr>\n",
       "    <tr>\n",
       "      <th>1889</th>\n",
       "      <td>z969</td>\n",
       "      <td>Naftisol</td>\n",
       "      <td>Male</td>\n",
       "      <td>9</td>\n",
       "      <td>30</td>\n",
       "      <td>30</td>\n",
       "      <td>65.841013</td>\n",
       "      <td>3</td>\n",
       "    </tr>\n",
       "    <tr>\n",
       "      <th>1890</th>\n",
       "      <td>z969</td>\n",
       "      <td>Naftisol</td>\n",
       "      <td>Male</td>\n",
       "      <td>9</td>\n",
       "      <td>30</td>\n",
       "      <td>35</td>\n",
       "      <td>69.176246</td>\n",
       "      <td>4</td>\n",
       "    </tr>\n",
       "    <tr>\n",
       "      <th>1891</th>\n",
       "      <td>z969</td>\n",
       "      <td>Naftisol</td>\n",
       "      <td>Male</td>\n",
       "      <td>9</td>\n",
       "      <td>30</td>\n",
       "      <td>40</td>\n",
       "      <td>70.314904</td>\n",
       "      <td>4</td>\n",
       "    </tr>\n",
       "    <tr>\n",
       "      <th>1892</th>\n",
       "      <td>z969</td>\n",
       "      <td>Naftisol</td>\n",
       "      <td>Male</td>\n",
       "      <td>9</td>\n",
       "      <td>30</td>\n",
       "      <td>45</td>\n",
       "      <td>73.867845</td>\n",
       "      <td>4</td>\n",
       "    </tr>\n",
       "  </tbody>\n",
       "</table>\n",
       "<p>1880 rows × 8 columns</p>\n",
       "</div>"
      ],
      "text/plain": [
       "     Mouse ID Drug Regimen   Sex  Age_months  Weight (g)  Timepoint  \\\n",
       "0        k403     Ramicane  Male          21          16          0   \n",
       "1        k403     Ramicane  Male          21          16          5   \n",
       "2        k403     Ramicane  Male          21          16         10   \n",
       "3        k403     Ramicane  Male          21          16         15   \n",
       "4        k403     Ramicane  Male          21          16         20   \n",
       "...       ...          ...   ...         ...         ...        ...   \n",
       "1888     z969     Naftisol  Male           9          30         25   \n",
       "1889     z969     Naftisol  Male           9          30         30   \n",
       "1890     z969     Naftisol  Male           9          30         35   \n",
       "1891     z969     Naftisol  Male           9          30         40   \n",
       "1892     z969     Naftisol  Male           9          30         45   \n",
       "\n",
       "      Tumor Volume (mm3)  Metastatic Sites  \n",
       "0              45.000000                 0  \n",
       "1              38.825898                 0  \n",
       "2              35.014271                 1  \n",
       "3              34.223992                 1  \n",
       "4              32.997729                 1  \n",
       "...                  ...               ...  \n",
       "1888           63.145652                 2  \n",
       "1889           65.841013                 3  \n",
       "1890           69.176246                 4  \n",
       "1891           70.314904                 4  \n",
       "1892           73.867845                 4  \n",
       "\n",
       "[1880 rows x 8 columns]"
      ]
     },
     "execution_count": 9,
     "metadata": {},
     "output_type": "execute_result"
    }
   ],
   "source": [
    "# Create a clean DataFrame by dropping the duplicate mouse by its ID.\n",
    "#found .isin in stack overflow. This is the bomb!\n",
    "new_py = py_data[py_data['Mouse ID'].isin(dup_pydata) == False]\n",
    "new_py"
   ]
  },
  {
   "cell_type": "code",
   "execution_count": 10,
   "metadata": {
    "scrolled": true
   },
   "outputs": [
    {
     "data": {
      "text/plain": [
       "248"
      ]
     },
     "execution_count": 10,
     "metadata": {},
     "output_type": "execute_result"
    }
   ],
   "source": [
    "# Checking the number of mice in the clean DataFrame.\n",
    "len(new_py[\"Mouse ID\"].unique())"
   ]
  },
  {
   "cell_type": "markdown",
   "metadata": {},
   "source": [
    "## Summary Statistics"
   ]
  },
  {
   "cell_type": "code",
   "execution_count": 11,
   "metadata": {},
   "outputs": [
    {
     "data": {
      "text/html": [
       "<div>\n",
       "<style scoped>\n",
       "    .dataframe tbody tr th:only-of-type {\n",
       "        vertical-align: middle;\n",
       "    }\n",
       "\n",
       "    .dataframe tbody tr th {\n",
       "        vertical-align: top;\n",
       "    }\n",
       "\n",
       "    .dataframe thead th {\n",
       "        text-align: right;\n",
       "    }\n",
       "</style>\n",
       "<table border=\"1\" class=\"dataframe\">\n",
       "  <thead>\n",
       "    <tr style=\"text-align: right;\">\n",
       "      <th></th>\n",
       "      <th>mean</th>\n",
       "      <th>median</th>\n",
       "      <th>var</th>\n",
       "      <th>Standard Dev</th>\n",
       "      <th>SEM</th>\n",
       "    </tr>\n",
       "    <tr>\n",
       "      <th>Drug Regimen</th>\n",
       "      <th></th>\n",
       "      <th></th>\n",
       "      <th></th>\n",
       "      <th></th>\n",
       "      <th></th>\n",
       "    </tr>\n",
       "  </thead>\n",
       "  <tbody>\n",
       "    <tr>\n",
       "      <th>Capomulin</th>\n",
       "      <td>40.675741</td>\n",
       "      <td>41.557809</td>\n",
       "      <td>24.947764</td>\n",
       "      <td>4.994774</td>\n",
       "      <td>0.329346</td>\n",
       "    </tr>\n",
       "    <tr>\n",
       "      <th>Ceftamin</th>\n",
       "      <td>52.591172</td>\n",
       "      <td>51.776157</td>\n",
       "      <td>39.290177</td>\n",
       "      <td>6.268188</td>\n",
       "      <td>0.469821</td>\n",
       "    </tr>\n",
       "    <tr>\n",
       "      <th>Infubinol</th>\n",
       "      <td>52.884795</td>\n",
       "      <td>51.820584</td>\n",
       "      <td>43.128684</td>\n",
       "      <td>6.567243</td>\n",
       "      <td>0.492236</td>\n",
       "    </tr>\n",
       "    <tr>\n",
       "      <th>Ketapril</th>\n",
       "      <td>55.235638</td>\n",
       "      <td>53.698743</td>\n",
       "      <td>68.553577</td>\n",
       "      <td>8.279709</td>\n",
       "      <td>0.603860</td>\n",
       "    </tr>\n",
       "    <tr>\n",
       "      <th>Naftisol</th>\n",
       "      <td>54.331565</td>\n",
       "      <td>52.509285</td>\n",
       "      <td>66.173479</td>\n",
       "      <td>8.134708</td>\n",
       "      <td>0.596466</td>\n",
       "    </tr>\n",
       "    <tr>\n",
       "      <th>Placebo</th>\n",
       "      <td>54.033581</td>\n",
       "      <td>52.288934</td>\n",
       "      <td>61.168083</td>\n",
       "      <td>7.821003</td>\n",
       "      <td>0.581331</td>\n",
       "    </tr>\n",
       "    <tr>\n",
       "      <th>Propriva</th>\n",
       "      <td>52.320930</td>\n",
       "      <td>50.446266</td>\n",
       "      <td>43.852013</td>\n",
       "      <td>6.622085</td>\n",
       "      <td>0.544332</td>\n",
       "    </tr>\n",
       "    <tr>\n",
       "      <th>Ramicane</th>\n",
       "      <td>40.216745</td>\n",
       "      <td>40.673236</td>\n",
       "      <td>23.486704</td>\n",
       "      <td>4.846308</td>\n",
       "      <td>0.320955</td>\n",
       "    </tr>\n",
       "    <tr>\n",
       "      <th>Stelasyn</th>\n",
       "      <td>54.233149</td>\n",
       "      <td>52.431737</td>\n",
       "      <td>59.450562</td>\n",
       "      <td>7.710419</td>\n",
       "      <td>0.573111</td>\n",
       "    </tr>\n",
       "    <tr>\n",
       "      <th>Zoniferol</th>\n",
       "      <td>53.236507</td>\n",
       "      <td>51.818479</td>\n",
       "      <td>48.533355</td>\n",
       "      <td>6.966589</td>\n",
       "      <td>0.516398</td>\n",
       "    </tr>\n",
       "  </tbody>\n",
       "</table>\n",
       "</div>"
      ],
      "text/plain": [
       "                   mean     median        var  Standard Dev       SEM\n",
       "Drug Regimen                                                         \n",
       "Capomulin     40.675741  41.557809  24.947764      4.994774  0.329346\n",
       "Ceftamin      52.591172  51.776157  39.290177      6.268188  0.469821\n",
       "Infubinol     52.884795  51.820584  43.128684      6.567243  0.492236\n",
       "Ketapril      55.235638  53.698743  68.553577      8.279709  0.603860\n",
       "Naftisol      54.331565  52.509285  66.173479      8.134708  0.596466\n",
       "Placebo       54.033581  52.288934  61.168083      7.821003  0.581331\n",
       "Propriva      52.320930  50.446266  43.852013      6.622085  0.544332\n",
       "Ramicane      40.216745  40.673236  23.486704      4.846308  0.320955\n",
       "Stelasyn      54.233149  52.431737  59.450562      7.710419  0.573111\n",
       "Zoniferol     53.236507  51.818479  48.533355      6.966589  0.516398"
      ]
     },
     "execution_count": 11,
     "metadata": {},
     "output_type": "execute_result"
    }
   ],
   "source": [
    "# Generate a summary statistics table of mean, median, variance, standard deviation, and SEM of the tumor volume for each regiment\n",
    "# This method is the most straighforward, creating multiple series and putting them all together at the end.\n",
    "mean_series = new_py.groupby(\"Drug Regimen\").mean()[\"Tumor Volume (mm3)\"]\n",
    "mean_series\n",
    "median_series = new_py.groupby(\"Drug Regimen\").median()[\"Tumor Volume (mm3)\"]\n",
    "median_series\n",
    "var_series = new_py.groupby(\"Drug Regimen\").var()[\"Tumor Volume (mm3)\"]\n",
    "var_series\n",
    "std_series = new_py.groupby(\"Drug Regimen\").std()[\"Tumor Volume (mm3)\"]\n",
    "std_series\n",
    "sem_series = new_py.groupby(\"Drug Regimen\").sem()[\"Tumor Volume (mm3)\"]\n",
    "sem_series\n",
    "\n",
    "summary_tumor_df = pd.DataFrame({\"mean\": mean_series,\n",
    "                                 \"median\": median_series,\n",
    "                                 \"var\":var_series,\n",
    "                                 \"Standard Dev\": std_series,\n",
    "                                 \"SEM\": sem_series\n",
    "                           })\n",
    "summary_tumor_df"
   ]
  },
  {
   "cell_type": "code",
   "execution_count": 12,
   "metadata": {},
   "outputs": [
    {
     "data": {
      "text/html": [
       "<div>\n",
       "<style scoped>\n",
       "    .dataframe tbody tr th:only-of-type {\n",
       "        vertical-align: middle;\n",
       "    }\n",
       "\n",
       "    .dataframe tbody tr th {\n",
       "        vertical-align: top;\n",
       "    }\n",
       "\n",
       "    .dataframe thead tr th {\n",
       "        text-align: left;\n",
       "    }\n",
       "\n",
       "    .dataframe thead tr:last-of-type th {\n",
       "        text-align: right;\n",
       "    }\n",
       "</style>\n",
       "<table border=\"1\" class=\"dataframe\">\n",
       "  <thead>\n",
       "    <tr>\n",
       "      <th></th>\n",
       "      <th colspan=\"5\" halign=\"left\">Tumor Volume (mm3)</th>\n",
       "    </tr>\n",
       "    <tr>\n",
       "      <th></th>\n",
       "      <th>mean</th>\n",
       "      <th>median</th>\n",
       "      <th>var</th>\n",
       "      <th>std</th>\n",
       "      <th>sem</th>\n",
       "    </tr>\n",
       "    <tr>\n",
       "      <th>Drug Regimen</th>\n",
       "      <th></th>\n",
       "      <th></th>\n",
       "      <th></th>\n",
       "      <th></th>\n",
       "      <th></th>\n",
       "    </tr>\n",
       "  </thead>\n",
       "  <tbody>\n",
       "    <tr>\n",
       "      <th>Capomulin</th>\n",
       "      <td>40.675741</td>\n",
       "      <td>41.557809</td>\n",
       "      <td>24.947764</td>\n",
       "      <td>4.994774</td>\n",
       "      <td>0.329346</td>\n",
       "    </tr>\n",
       "    <tr>\n",
       "      <th>Ceftamin</th>\n",
       "      <td>52.591172</td>\n",
       "      <td>51.776157</td>\n",
       "      <td>39.290177</td>\n",
       "      <td>6.268188</td>\n",
       "      <td>0.469821</td>\n",
       "    </tr>\n",
       "    <tr>\n",
       "      <th>Infubinol</th>\n",
       "      <td>52.884795</td>\n",
       "      <td>51.820584</td>\n",
       "      <td>43.128684</td>\n",
       "      <td>6.567243</td>\n",
       "      <td>0.492236</td>\n",
       "    </tr>\n",
       "    <tr>\n",
       "      <th>Ketapril</th>\n",
       "      <td>55.235638</td>\n",
       "      <td>53.698743</td>\n",
       "      <td>68.553577</td>\n",
       "      <td>8.279709</td>\n",
       "      <td>0.603860</td>\n",
       "    </tr>\n",
       "    <tr>\n",
       "      <th>Naftisol</th>\n",
       "      <td>54.331565</td>\n",
       "      <td>52.509285</td>\n",
       "      <td>66.173479</td>\n",
       "      <td>8.134708</td>\n",
       "      <td>0.596466</td>\n",
       "    </tr>\n",
       "    <tr>\n",
       "      <th>Placebo</th>\n",
       "      <td>54.033581</td>\n",
       "      <td>52.288934</td>\n",
       "      <td>61.168083</td>\n",
       "      <td>7.821003</td>\n",
       "      <td>0.581331</td>\n",
       "    </tr>\n",
       "    <tr>\n",
       "      <th>Propriva</th>\n",
       "      <td>52.320930</td>\n",
       "      <td>50.446266</td>\n",
       "      <td>43.852013</td>\n",
       "      <td>6.622085</td>\n",
       "      <td>0.544332</td>\n",
       "    </tr>\n",
       "    <tr>\n",
       "      <th>Ramicane</th>\n",
       "      <td>40.216745</td>\n",
       "      <td>40.673236</td>\n",
       "      <td>23.486704</td>\n",
       "      <td>4.846308</td>\n",
       "      <td>0.320955</td>\n",
       "    </tr>\n",
       "    <tr>\n",
       "      <th>Stelasyn</th>\n",
       "      <td>54.233149</td>\n",
       "      <td>52.431737</td>\n",
       "      <td>59.450562</td>\n",
       "      <td>7.710419</td>\n",
       "      <td>0.573111</td>\n",
       "    </tr>\n",
       "    <tr>\n",
       "      <th>Zoniferol</th>\n",
       "      <td>53.236507</td>\n",
       "      <td>51.818479</td>\n",
       "      <td>48.533355</td>\n",
       "      <td>6.966589</td>\n",
       "      <td>0.516398</td>\n",
       "    </tr>\n",
       "  </tbody>\n",
       "</table>\n",
       "</div>"
      ],
      "text/plain": [
       "             Tumor Volume (mm3)                                          \n",
       "                           mean     median        var       std       sem\n",
       "Drug Regimen                                                             \n",
       "Capomulin             40.675741  41.557809  24.947764  4.994774  0.329346\n",
       "Ceftamin              52.591172  51.776157  39.290177  6.268188  0.469821\n",
       "Infubinol             52.884795  51.820584  43.128684  6.567243  0.492236\n",
       "Ketapril              55.235638  53.698743  68.553577  8.279709  0.603860\n",
       "Naftisol              54.331565  52.509285  66.173479  8.134708  0.596466\n",
       "Placebo               54.033581  52.288934  61.168083  7.821003  0.581331\n",
       "Propriva              52.320930  50.446266  43.852013  6.622085  0.544332\n",
       "Ramicane              40.216745  40.673236  23.486704  4.846308  0.320955\n",
       "Stelasyn              54.233149  52.431737  59.450562  7.710419  0.573111\n",
       "Zoniferol             53.236507  51.818479  48.533355  6.966589  0.516398"
      ]
     },
     "execution_count": 12,
     "metadata": {},
     "output_type": "execute_result"
    }
   ],
   "source": [
    "# Generate a summary statistics table of mean, median, variance, standard deviation, and SEM of the tumor volume for each regimen\n",
    "# This method produces everything in a single groupby function\n",
    "agg_new_py = new_py.groupby(\"Drug Regimen\").agg({\"Tumor Volume (mm3)\": [\"mean\", \"median\", \"var\", \"std\", \"sem\"]})\n",
    "agg_new_py\n",
    "\n"
   ]
  },
  {
   "cell_type": "markdown",
   "metadata": {},
   "source": [
    "## Bar and Pie Charts"
   ]
  },
  {
   "cell_type": "code",
   "execution_count": 13,
   "metadata": {},
   "outputs": [
    {
     "data": {
      "image/png": "[encoded data removed]",
      "text/plain": [
       "<Figure size 432x288 with 1 Axes>"
      ]
     },
     "metadata": {
      "needs_background": "light"
     },
     "output_type": "display_data"
    }
   ],
   "source": [
    "# Generate a bar plot showing the total number of mice for each treatment throughout the course of the study using pandas. \n",
    "mice_count = new_py[\"Drug Regimen\"].value_counts()\n",
    "mice_count.plot(kind=\"bar\")\n",
    "plt.show()\n",
    "\n",
    "#y axis and title"
   ]
  },
  {
   "cell_type": "code",
   "execution_count": 14,
   "metadata": {
    "scrolled": true
   },
   "outputs": [
    {
     "data": {
      "text/plain": [
       "<matplotlib.axes._subplots.AxesSubplot at 0x13ffe9c9b48>"
      ]
     },
     "execution_count": 14,
     "metadata": {},
     "output_type": "execute_result"
    },
    {
     "data": {
      "image/png": "[encoded data removed]",
      "text/plain": [
       "<Figure size 1440x360 with 1 Axes>"
      ]
     },
     "metadata": {
      "needs_background": "light"
     },
     "output_type": "display_data"
    }
   ],
   "source": [
    "# Generate a bar plot showing the total number of mice for each treatment throughout the course of the study using pyplot.\n",
    "mice_count = new_py[\"Drug Regimen\"].value_counts()\n",
    "mice_count.plot(kind=\"bar\", figsize=(20,5))"
   ]
  },
  {
   "cell_type": "code",
   "execution_count": 15,
   "metadata": {},
   "outputs": [
    {
     "data": {
      "image/png": "[encoded data removed]",
      "text/plain": [
       "<Figure size 432x288 with 1 Axes>"
      ]
     },
     "metadata": {},
     "output_type": "display_data"
    }
   ],
   "source": [
    "# Generate a pie plot showing the distribution of female versus male mice using pandas\n",
    "mice_count = new_py[\"Sex\"].value_counts()\n",
    "mice_count.plot(kind=\"pie\", autopct = \"%1.1f%%\")\n",
    "plt.show()\n",
    "\n",
    "#Title and % of value"
   ]
  },
  {
   "cell_type": "code",
   "execution_count": 16,
   "metadata": {},
   "outputs": [
    {
     "data": {
      "text/plain": [
       "<matplotlib.axes._subplots.AxesSubplot at 0x13ffeaa5a88>"
      ]
     },
     "execution_count": 16,
     "metadata": {},
     "output_type": "execute_result"
    },
    {
     "data": {
      "image/png": "[encoded data removed]",
      "text/plain": [
       "<Figure size 1440x216 with 1 Axes>"
      ]
     },
     "metadata": {},
     "output_type": "display_data"
    }
   ],
   "source": [
    "# Generate a pie plot showing the distribution of female versus male mice using pyplot\n",
    "mice_count.plot(kind=\"pie\", figsize=(20,3), autopct = \"%1.1f%%\")\n",
    "\n"
   ]
  },
  {
   "cell_type": "markdown",
   "metadata": {},
   "source": [
    "## Quartiles, Outliers and Boxplots"
   ]
  },
  {
   "cell_type": "code",
   "execution_count": 17,
   "metadata": {
    "scrolled": true
   },
   "outputs": [
    {
     "name": "stdout",
     "output_type": "stream",
     "text": [
      "Lower Capomulin Quartile: 32.37735684\n",
      "Upper Capomulin Quartile: 40.1592203\n",
      "Interquartile Capomulin range: 7.781863460000004\n",
      "The Capomulin median: 38.125164399999996\n",
      "Values below 20.70456164999999 could be outliers.\n",
      "Values below 28.486425109999995 could be outliers.\n",
      "Lower Ramicane Quartile: 31.56046955\n",
      "Upper Ramicane Quartile: 40.65900627\n",
      "Interquartile Ramicane range: 9.098536719999998\n",
      "The Ramicane median: 36.56165229\n",
      "Values below 17.912664470000003 could be outliers.\n",
      "Values below 27.01120119 could be outliers.\n",
      "Lower Infubinol Quartile: 54.04860769\n",
      "Upper Infubinol Quartile: 65.52574285\n",
      "Interquartile Infubinol range: 11.477135160000003\n",
      "The Infubinol median: 60.16518046\n",
      "Values below 36.83290494999999 could be outliers.\n",
      "Values below 48.310040109999996 could be outliers.\n",
      "Lower Ceftamin Quartile: 48.72207785\n",
      "Upper Ceftamin Quartile: 64.29983003\n",
      "Interquartile Ceftamin range: 15.577752179999997\n",
      "The Ceftamin median: 59.85195552\n",
      "Values below 25.355449580000002 could be outliers.\n",
      "Values below 40.93320176 could be outliers.\n"
     ]
    },
    {
     "data": {
      "text/plain": [
       "[Text(0, 0, 'Capomulin'),\n",
       " Text(0, 0, 'Ramicane'),\n",
       " Text(0, 0, 'Infubinol'),\n",
       " Text(0, 0, 'Ceftamin')]"
      ]
     },
     "execution_count": 17,
     "metadata": {},
     "output_type": "execute_result"
    },
    {
     "data": {
      "image/png": "[encoded data removed]",
      "text/plain": [
       "<Figure size 432x288 with 1 Axes>"
      ]
     },
     "metadata": {
      "needs_background": "light"
     },
     "output_type": "display_data"
    }
   ],
   "source": [
    "\n",
    "## Quartiles, Outliers and Boxplots\n",
    "\n",
    "# Calculate the final tumor volume of each mouse across four of the treatment regimens:  \n",
    "# Capomulin, Ramicane, Infubinol, and Ceftamin\n",
    "#final_tumor = new_py.groupby([\"Mouse ID\"])[\"Timepoint\"].max()\n",
    "#final_tumor.reset_index()\n",
    "#merged_data = final_tumor.merge(new_py, on=[\"Mouse ID\", \"Timepoint\"], how=\"left\")\n",
    "\n",
    "\n",
    "bplot_capomulin = new_py.loc[new_py[\"Drug Regimen\"]== \"Capomulin\"] \n",
    "bplot_capomulin_time = bplot_capomulin.groupby([\"Mouse ID\"])[\"Timepoint\"].max()\n",
    "bplot_capomulin_tumor = bplot_capomulin.groupby([\"Mouse ID\"])[\"Tumor Volume (mm3)\"].last()\n",
    "bplot_capomulin_merge = pd.merge(bplot_capomulin_time, bplot_capomulin_tumor, how=\"left\", on=[\"Mouse ID\"])\n",
    "#print(bplot_capomulin_merge)\n",
    "#bplot_capomulin = new_py.loc[new_py[\"Drug Regimen\"]== \"Capomulin\"] \n",
    "#bplot_capomulin = bplot_capomulin.loc[bplot_capomulin[\"Timepoint\"]==45]\n",
    "#bplot_capomulin = bplot_capomulin[\"Tumor Volume (mm3)\"]\n",
    "#print(bplot_capomulin)\n",
    "#bplot_ramicane = new_py.loc[new_py[\"Drug Regimen\"]== \"Ramicane\"] \n",
    "#bplot_ramicane = bplot_ramicane.loc[bplot_ramicane[\"Timepoint\"]==45]\n",
    "#bplot_ramicane = bplot_ramicane[\"Tumor Volume (mm3)\"]\n",
    "bplot_ramicane = new_py.loc[new_py[\"Drug Regimen\"]== \"Ramicane\"] \n",
    "bplot_ramicane_time = bplot_ramicane.groupby([\"Mouse ID\"])[\"Timepoint\"].max()\n",
    "bplot_ramicane_tumor = bplot_ramicane.groupby([\"Mouse ID\"])[\"Tumor Volume (mm3)\"].last()\n",
    "bplot_ramicane_merge = pd.merge(bplot_ramicane_time, bplot_ramicane_tumor, how=\"left\", on=[\"Mouse ID\"])\n",
    "\n",
    "#bplot_infubinol = new_py.loc[new_py[\"Drug Regimen\"]== \"Infubinol\"] \n",
    "#bplot_infubinol = bplot_infubinol.loc[bplot_infubinol[\"Timepoint\"]==45]\n",
    "#bplot_infubinol = bplot_infubinol[\"Tumor Volume (mm3)\"]\n",
    "bplot_infubinol = new_py.loc[new_py[\"Drug Regimen\"]== \"Infubinol\"] \n",
    "bplot_infubinol_time = bplot_infubinol.groupby([\"Mouse ID\"])[\"Timepoint\"].max()\n",
    "bplot_infubinol_tumor = bplot_infubinol.groupby([\"Mouse ID\"])[\"Tumor Volume (mm3)\"].last()\n",
    "bplot_infubinol_merge = pd.merge(bplot_infubinol_time, bplot_infubinol_tumor, how=\"left\", on=[\"Mouse ID\"])\n",
    "\n",
    "#bplot_ceftamin = new_py.loc[new_py[\"Drug Regimen\"]== \"Ceftamin\"] \n",
    "#bplot_ceftamin = bplot_ceftamin.loc[bplot_ceftamin[\"Timepoint\"]==45]\n",
    "#bplot_ceftamin = bplot_ceftamin[\"Tumor Volume (mm3)\"]\n",
    "bplot_ceftamin = new_py.loc[new_py[\"Drug Regimen\"]== \"Ceftamin\"] \n",
    "bplot_ceftamin_time = bplot_ceftamin.groupby([\"Mouse ID\"])[\"Timepoint\"].max()\n",
    "bplot_ceftamin_tumor = bplot_ceftamin.groupby([\"Mouse ID\"])[\"Tumor Volume (mm3)\"].last()\n",
    "bplot_ceftamin_merge = pd.merge(bplot_ceftamin_time, bplot_ceftamin_tumor, how=\"left\", on=[\"Mouse ID\"])\n",
    "\n",
    "#✓ The notebook calculates all of the following for all four drug regimens:\n",
    "#✓ Quartiles\n",
    "\n",
    "\n",
    "#quartiles capomulin\n",
    "quar_capomulin = bplot_capomulin_merge[\"Tumor Volume (mm3)\"].quantile([0.25,0.5,0.75])\n",
    "lowerq_capomulin = quar_capomulin[0.25]\n",
    "upperq_capomulin = quar_capomulin[0.75]\n",
    "iqr_capomulin = upperq_capomulin-lowerq_capomulin\n",
    "\n",
    "print(f\"Lower Capomulin Quartile: {lowerq_capomulin}\")\n",
    "print(f\"Upper Capomulin Quartile: {upperq_capomulin}\")\n",
    "print(f\"Interquartile Capomulin range: {iqr_capomulin}\")\n",
    "print(f\"The Capomulin median: {quar_capomulin[.5]}\")\n",
    "\n",
    "lowerbound_capomulin = lowerq_capomulin -(1.5*iqr_capomulin)\n",
    "upperbound_capomulin = upperq_capomulin -(1.5*iqr_capomulin)\n",
    "print(f\"Values below {lowerbound_capomulin} could be outliers.\")\n",
    "print(f\"Values below {upperbound_capomulin} could be outliers.\")\n",
    "\n",
    "#✓ IQR\n",
    "#✓ Outlier boundaries\n",
    "#✓ All potential outliers\n",
    "\n",
    "\n",
    "#bplot_capomulin.plot(kind=\"box\")\n",
    "\n",
    "#quartiles ramicane\n",
    "quar_ramicane = bplot_ramicane_merge[\"Tumor Volume (mm3)\"].quantile([.25,.5,.75])\n",
    "lowerq_ramicane = quar_ramicane[0.25]\n",
    "upperq_ramicane = quar_ramicane[0.75]\n",
    "iqr_ramicane = upperq_ramicane-lowerq_ramicane\n",
    "\n",
    "print(f\"Lower Ramicane Quartile: {lowerq_ramicane}\")\n",
    "print(f\"Upper Ramicane Quartile: {upperq_ramicane}\")\n",
    "print(f\"Interquartile Ramicane range: {iqr_ramicane}\")\n",
    "print(f\"The Ramicane median: {quar_ramicane[.5]}\")\n",
    "\n",
    "lowerbound_ramicane = lowerq_ramicane -(1.5*iqr_ramicane)\n",
    "upperbound_ramicane = upperq_ramicane -(1.5*iqr_ramicane)\n",
    "print(f\"Values below {lowerbound_ramicane} could be outliers.\")\n",
    "print(f\"Values below {upperbound_ramicane} could be outliers.\")\n",
    "\n",
    "#quartiles infubinol\n",
    "quar_infubinol = bplot_infubinol_merge[\"Tumor Volume (mm3)\"].quantile([.25,.5,.75])\n",
    "lowerq_infubinol = quar_infubinol[0.25]\n",
    "upperq_infubinol = quar_infubinol[0.75]\n",
    "iqr_infubinol = upperq_infubinol-lowerq_infubinol\n",
    "\n",
    "print(f\"Lower Infubinol Quartile: {lowerq_infubinol}\")\n",
    "print(f\"Upper Infubinol Quartile: {upperq_infubinol}\")\n",
    "print(f\"Interquartile Infubinol range: {iqr_infubinol}\")\n",
    "print(f\"The Infubinol median: {quar_infubinol[.5]}\")\n",
    "\n",
    "lowerbound_infubinol = lowerq_infubinol -(1.5*iqr_infubinol)\n",
    "upperbound_infubinol = upperq_infubinol -(1.5*iqr_infubinol)\n",
    "print(f\"Values below {lowerbound_infubinol} could be outliers.\")\n",
    "print(f\"Values below {upperbound_infubinol} could be outliers.\")\n",
    "\n",
    "#quartiles ceftamin\n",
    "quar_ceftamin = bplot_ceftamin_merge[\"Tumor Volume (mm3)\"].quantile([.25,.5,.75])\n",
    "lowerq_ceftamin = quar_ceftamin[0.25]\n",
    "upperq_ceftamin = quar_ceftamin[0.75]\n",
    "iqr_ceftamin = upperq_ceftamin-lowerq_ceftamin\n",
    "\n",
    "print(f\"Lower Ceftamin Quartile: {lowerq_ceftamin}\")\n",
    "print(f\"Upper Ceftamin Quartile: {upperq_ceftamin}\")\n",
    "print(f\"Interquartile Ceftamin range: {iqr_ceftamin}\")\n",
    "print(f\"The Ceftamin median: {quar_ceftamin[.5]}\")\n",
    "\n",
    "lowerbound_ceftamin = lowerq_ceftamin -(1.5*iqr_ceftamin)\n",
    "upperbound_ceftamin = upperq_ceftamin -(1.5*iqr_ceftamin)\n",
    "print(f\"Values below {lowerbound_ceftamin} could be outliers.\")\n",
    "print(f\"Values below {upperbound_ceftamin} could be outliers.\")\n",
    "\n",
    "#final_tumor = new_py.groupby([\"Mouse ID\"])[\"Timepoint\"].max()\n",
    "#final_tumor.reset_index()\n",
    "#merged_data = final_tumor.merge(new_py, on=[\"Mouse ID\", \"Timepoint\"], how=\"left\")\n",
    "#print (merged_data.head)\n",
    "#✓ IQR\n",
    "#✓ Outlier boundaries\n",
    "#✓#All potential outliers\n",
    "\n",
    "#capomulin_plot = bplot_capomulin.boxplot(bplot_capomulin, vert=True, patch_artist=True)\n",
    "#✓A box and whisker plot is successfully generated for the final tumor volume, and meets all of the following criteria:\n",
    "#✓ All four treatment regimens are on the same plot\n",
    "#✓ Potential outlier data points have a custom style or color\n",
    "\n",
    "# Start by getting the last (greatest) timepoint for each mouse\n",
    "# Merge this group df with the original dataframe to get the tumor volume at the last timepoint\n",
    "\n",
    "# Put treatments into a list for for loop (and later for plot labels)\n",
    "\n",
    "\n",
    "# Create empty list to fill with tumor vol data (for plotting)\n",
    "\n",
    "\n",
    "# Calculate the IQR and quantitatively determine if there are any potential outliers. \n",
    "\n",
    "    \n",
    "    # Locate the rows which contain mice on each drug and get the tumor volumes\n",
    "    \n",
    "    \n",
    "    # add subset \n",
    "    \n",
    "      # Determine outliers using upper and lower bounds\n",
    "        # Generate a box plot of the final tumor volume of each mouse across four regimens of interest\n",
    "#bplot_capomulin.plot(kind=\"box\")\n",
    "#bplot_ramicane.plot(kind=\"box\")\n",
    "#bplot_infubinol.plot(kind=\"box\")\n",
    "#bplot_ceftamin.plot(kind=\"box\") \n",
    "\n",
    "fig1, ax = plt.subplots()\n",
    "ax.boxplot(bplot_capomulin_merge[\"Tumor Volume (mm3)\"], positions = [1], widths = .5)\n",
    "ax.boxplot(bplot_ramicane_merge[\"Tumor Volume (mm3)\"], positions = [2], widths = .5)\n",
    "ax.boxplot(bplot_infubinol_merge[\"Tumor Volume (mm3)\"], positions = [3], widths = .5)\n",
    "ax.boxplot(bplot_ceftamin_merge[\"Tumor Volume (mm3)\"], positions = [4], widths = .5)\n",
    "ax.set_ylabel(\"Tumor Volume (mm3)\")\n",
    "ax.set_xticklabels([\"Capomulin\", \"Ramicane\", \"Infubinol\", \"Ceftamin\"])\n"
   ]
  },
  {
   "cell_type": "markdown",
   "metadata": {},
   "source": [
    "## Line and Scatter Plots"
   ]
  },
  {
   "cell_type": "code",
   "execution_count": 24,
   "metadata": {},
   "outputs": [
    {
     "data": {
      "text/plain": [
       "Text(0.5, 1.0, 'Poor Tumor b128')"
      ]
     },
     "execution_count": 24,
     "metadata": {},
     "output_type": "execute_result"
    },
    {
     "data": {
      "image/png": "[encoded data removed]",
      "text/plain": [
       "<Figure size 1080x720 with 1 Axes>"
      ]
     },
     "metadata": {
      "needs_background": "light"
     },
     "output_type": "display_data"
    }
   ],
   "source": [
    "# Generate a line plot of time point versus tumor volume for ***a mouse*** (ONE MOUSE) treated with Capomulin\n",
    "# Title with which mouse \n",
    "#B128 Mouse ID\n",
    "capomulin_mouse = new_py.loc[new_py[\"Drug Regimen\"]==\"Capomulin\"]\n",
    "#capomulin_mouse = capomulin_mouse.reset_index()\n",
    "#capomulin_mouse.head()\n",
    "\n",
    "one_mouse = capomulin_mouse.loc[capomulin_mouse[\"Mouse ID\"]==\"b128\"]\n",
    "one_mouse.head(15)\n",
    "\n",
    "one_mouse = one_mouse.loc[:,[\"Timepoint\", \"Tumor Volume (mm3)\"]]\n",
    "\n",
    "one_mouse.set_index('Timepoint').plot(figsize=(15,10), linewidth=3.0, color='blue')\n",
    "\n",
    "#plt.plot(capomulin_mouse,TimePoint, color='blue', label=\"Tumor Tracker\")\n",
    "#plt.legend(loc=\"best\")\n",
    "plt.ylabel(\"Tumor Volume (mm3)\")\n",
    "plt.title(\"Poor Tumor b128\")"
   ]
  },
  {
   "cell_type": "code",
   "execution_count": 19,
   "metadata": {
    "scrolled": true
   },
   "outputs": [
    {
     "data": {
      "image/png": "[encoded data removed]",
      "text/plain": [
       "<Figure size 432x288 with 1 Axes>"
      ]
     },
     "metadata": {
      "needs_background": "light"
     },
     "output_type": "display_data"
    }
   ],
   "source": [
    "# Generate a scatter plot of mouse weight versus average tumor volume for the Capomulin regimen\n",
    "# some severe googlefu on matplotlib and the bonus on Lesson 3 matplotlib summary_stats\n",
    "\n",
    "scatter_capomulin = new_py.loc[new_py[\"Drug Regimen\"]== \"Capomulin\"]\n",
    "scatter_capomulin\n",
    "#bplot_capomulin_time = bplot_capomulin.groupby([\"Mouse ID\"])[\"Timepoint\"].max()\n",
    "#scatter_capomulin = new_py.groupby[new_py[\"Drug Regimen\"]== \"Capomulin\"]\n",
    "#scatter_capomulin\n",
    "\n",
    "cap_mouse_wt = scatter_capomulin.groupby([\"Mouse ID\"])['Weight (g)'].mean()\n",
    "cap_mouse_wt\n",
    "\n",
    "tumor_per_mouse = scatter_capomulin.groupby([\"Mouse ID\"])['Tumor Volume (mm3)'].mean()\n",
    "tumor_per_mouse\n",
    "\n",
    "plt.xlabel(\"Weight (g)\")\n",
    "plt.ylabel(\"Tumor Volume (mm3)\")\n",
    "plt.title(\"Mouse Weight v. Average Tumor\")\n",
    "plt.scatter(cap_mouse_wt, tumor_per_mouse, marker = \"+\")\n",
    "plt.show()\n",
    "\n",
    "\n",
    "\n"
   ]
  },
  {
   "cell_type": "markdown",
   "metadata": {},
   "source": [
    "## Correlation and Regression"
   ]
  },
  {
   "cell_type": "code",
   "execution_count": 20,
   "metadata": {},
   "outputs": [
    {
     "data": {
      "image/png": "[encoded data removed]",
      "text/plain": [
       "<Figure size 432x288 with 1 Axes>"
      ]
     },
     "metadata": {
      "needs_background": "light"
     },
     "output_type": "display_data"
    }
   ],
   "source": [
    "# Calculate the correlation coefficient and linear regression model \n",
    "# for mouse weight and average tumor volume for the Capomulin regimen\n",
    "scatter_capomulin = new_py.loc[new_py[\"Drug Regimen\"]== \"Capomulin\"]\n",
    "scatter_capomulin\n",
    "#bplot_capomulin_time = bplot_capomulin.groupby([\"Mouse ID\"])[\"Timepoint\"].max()\n",
    "#scatter_capomulin = new_py.groupby[new_py[\"Drug Regimen\"]== \"Capomulin\"]\n",
    "#scatter_capomulin\n",
    "\n",
    "cap_mouse_wt = scatter_capomulin.groupby([\"Mouse ID\"])['Weight (g)'].mean()\n",
    "cap_mouse_wt\n",
    "\n",
    "tumor_per_mouse = scatter_capomulin.groupby([\"Mouse ID\"])['Tumor Volume (mm3)'].mean()\n",
    "tumor_per_mouse\n",
    "\n",
    "x_values = scatter_capomulin['Weight (g)']\n",
    "y_values = scatter_capomulin['Tumor Volume (mm3)']\n",
    "(slope, intercept, rvalue, pvalue, stderr) = linregress(x_values, y_values)\n",
    "regress_values = x_values * slope + intercept\n",
    "line_eq = \"y = \" + str(round(slope,2)) + \"x + \" + str(round(intercept,2))\n",
    "plt.plot(x_values,regress_values,\"r-\")\n",
    "plt.annotate(line_eq,(6,10),fontsize=15,color=\"red\")\n",
    "\n",
    "plt.xlabel(\"Weight (g)\")\n",
    "plt.ylabel(\"Tumor Volume (mm3)\")\n",
    "plt.title(\"Mouse Weight v. Average Tumor\")\n",
    "plt.scatter(cap_mouse_wt, tumor_per_mouse, marker = \"+\")\n",
    "plt.show()"
   ]
  },
  {
   "cell_type": "code",
   "execution_count": null,
   "metadata": {},
   "outputs": [],
   "source": [
    "#Observations\n",
    "#1. The heavier the mouse is the larger the tumor size. \n",
    "#This is visualized by the correlation with regression line. \n",
    "#2. The placebo has no effect on the tumor. Each tumor that was treated with the placebo did not decrease in any facet. \n",
    "#3. This study was unbiased and fair. With as many male to female ratio. The weight size is in a 15 gram difference. \n",
    "#4. Each medicine has it's own effectiveness.\n",
    "#Capomulin and Ramicane are the prime choices to continue the study because of its effectiveness of decreasing the size of the tumor. \n",
    "#The box plot visualizes this in a degree of quartiles. \n",
    "#Would recommend to continue futher studies with the effectiveness of these two drugs. \n",
    "#Although Capomulin and Ramicane are the top two used drugs in this series of tests its effectivess to decress tumor size merits its own study. "
   ]
  }
 ],
 "metadata": {
  "anaconda-cloud": {},
  "kernelspec": {
   "display_name": "Python 3",
   "language": "python",
   "name": "python3"
  },
  "language_info": {
   "codemirror_mode": {
    "name": "ipython",
    "version": 3
   },
   "file_extension": ".py",
   "mimetype": "text/x-python",
   "name": "python",
   "nbconvert_exporter": "python",
   "pygments_lexer": "ipython3",
   "version": "3.7.6"
  }
 },
 "nbformat": 4,
 "nbformat_minor": 2
}
